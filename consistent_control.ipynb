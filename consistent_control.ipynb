{
 "cells": [
  {
   "cell_type": "code",
   "execution_count": 4,
   "id": "939a0c11",
   "metadata": {},
   "outputs": [],
   "source": [
    "import pygame"
   ]
  },
  {
   "cell_type": "code",
   "execution_count": 7,
   "id": "0518106e",
   "metadata": {},
   "outputs": [
    {
     "ename": "error",
     "evalue": "display Surface quit",
     "output_type": "error",
     "traceback": [
      "\u001b[1;31m---------------------------------------------------------------------------\u001b[0m",
      "\u001b[1;31merror\u001b[0m                                     Traceback (most recent call last)",
      "Cell \u001b[1;32mIn[7], line 39\u001b[0m\n\u001b[0;32m     36\u001b[0m     rect_x \u001b[38;5;241m=\u001b[39m \u001b[38;5;241m-\u001b[39mrect_width\n\u001b[0;32m     38\u001b[0m \u001b[38;5;66;03m# Clear the screen\u001b[39;00m\n\u001b[1;32m---> 39\u001b[0m \u001b[43mscreen\u001b[49m\u001b[38;5;241;43m.\u001b[39;49m\u001b[43mfill\u001b[49m\u001b[43m(\u001b[49m\u001b[43m(\u001b[49m\u001b[38;5;241;43m0\u001b[39;49m\u001b[43m,\u001b[49m\u001b[43m \u001b[49m\u001b[38;5;241;43m0\u001b[39;49m\u001b[43m,\u001b[49m\u001b[43m \u001b[49m\u001b[38;5;241;43m0\u001b[39;49m\u001b[43m)\u001b[49m\u001b[43m)\u001b[49m\n\u001b[0;32m     41\u001b[0m \u001b[38;5;66;03m# Draw the rectangle\u001b[39;00m\n\u001b[0;32m     42\u001b[0m pygame\u001b[38;5;241m.\u001b[39mdraw\u001b[38;5;241m.\u001b[39mrect(screen, (\u001b[38;5;241m255\u001b[39m, \u001b[38;5;241m255\u001b[39m, \u001b[38;5;241m255\u001b[39m), (rect_x, rect_y, rect_width, rect_height))\n",
      "\u001b[1;31merror\u001b[0m: display Surface quit"
     ]
    }
   ],
   "source": [
    "\n",
    "\n",
    "pygame.init()\n",
    "\n",
    "# Set up the screen\n",
    "screen_width = 800\n",
    "screen_height = 600\n",
    "screen = pygame.display.set_mode((screen_width, screen_height))\n",
    "pygame.display.set_caption(\"Delta Time Example\")\n",
    "\n",
    "# Set up the rectangle\n",
    "rect_width = 50\n",
    "rect_height = 50\n",
    "rect_x = 0\n",
    "rect_y = screen_height // 2 - rect_height // 2\n",
    "velocity = 300  # pixels per second\n",
    "\n",
    "# Set up the clock\n",
    "clock = pygame.time.Clock()\n",
    "\n",
    "# Game loop\n",
    "running = True\n",
    "while running:\n",
    "    # Calculate delta time\n",
    "    delta_time = clock.tick(60) / 1000.0  # convert milliseconds to seconds\n",
    "\n",
    "    # Handle events\n",
    "    for event in pygame.event.get():\n",
    "        if event.type == pygame.QUIT:\n",
    "            running = False\n",
    "            pygame.quit()\n",
    "\n",
    "    # Update the position of the rectangle based on the elapsed time and the velocity\n",
    "    rect_x += velocity * delta_time\n",
    "\n",
    "    # Wrap the rectangle around the screen if it goes off the edge\n",
    "    if rect_x > screen_width:\n",
    "        rect_x = -rect_width\n",
    "\n",
    "    # Clear the screen\n",
    "    screen.fill((0, 0, 0))\n",
    "\n",
    "    # Draw the rectangle\n",
    "    pygame.draw.rect(screen, (255, 255, 255), (rect_x, rect_y, rect_width, rect_height))\n",
    "\n",
    "    # Update the display\n",
    "    pygame.display.update()\n",
    "\n",
    "\n"
   ]
  },
  {
   "cell_type": "code",
   "execution_count": 6,
   "id": "c010ba27",
   "metadata": {},
   "outputs": [],
   "source": [
    "pygame.quit()"
   ]
  },
  {
   "cell_type": "code",
   "execution_count": null,
   "id": "52b062e2",
   "metadata": {},
   "outputs": [],
   "source": []
  }
 ],
 "metadata": {
  "kernelspec": {
   "display_name": "Python 3",
   "language": "python",
   "name": "python3"
  },
  "language_info": {
   "codemirror_mode": {
    "name": "ipython",
    "version": 3
   },
   "file_extension": ".py",
   "mimetype": "text/x-python",
   "name": "python",
   "nbconvert_exporter": "python",
   "pygments_lexer": "ipython3",
   "version": "3.8.5"
  }
 },
 "nbformat": 4,
 "nbformat_minor": 5
}
