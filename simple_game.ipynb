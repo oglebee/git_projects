{
 "cells": [
  {
   "cell_type": "code",
   "execution_count": 21,
   "id": "f4341a9a",
   "metadata": {},
   "outputs": [],
   "source": [
    "import pygame"
   ]
  },
  {
   "cell_type": "code",
   "execution_count": 22,
   "id": "82ffe25f",
   "metadata": {},
   "outputs": [],
   "source": [
    "pygame.init()\n",
    "screen = pygame.display.set_mode((500, 500))\n",
    "pygame.display.set_caption(\"Circle\")\n"
   ]
  },
  {
   "cell_type": "code",
   "execution_count": 23,
   "id": "03a09573",
   "metadata": {},
   "outputs": [],
   "source": [
    "circle_x = 250\n",
    "circle_y = 250\n",
    "circle_radius = 50\n"
   ]
  },
  {
   "cell_type": "code",
   "execution_count": 24,
   "id": "aa68913c",
   "metadata": {},
   "outputs": [],
   "source": [
    "black = (0, 0, 0)\n",
    "white = (255, 255, 255)\n"
   ]
  },
  {
   "cell_type": "code",
   "execution_count": 25,
   "id": "1dc24e34",
   "metadata": {},
   "outputs": [],
   "source": [
    "clock = pygame.time.Clock()\n"
   ]
  },
  {
   "cell_type": "code",
   "execution_count": 26,
   "id": "b2d60b18",
   "metadata": {},
   "outputs": [
    {
     "ename": "error",
     "evalue": "display Surface quit",
     "output_type": "error",
     "traceback": [
      "\u001b[1;31m---------------------------------------------------------------------------\u001b[0m",
      "\u001b[1;31merror\u001b[0m                                     Traceback (most recent call last)",
      "Cell \u001b[1;32mIn[26], line 16\u001b[0m\n\u001b[0;32m     14\u001b[0m         \u001b[38;5;28;01mif\u001b[39;00m event\u001b[38;5;241m.\u001b[39mkey \u001b[38;5;241m==\u001b[39m pygame\u001b[38;5;241m.\u001b[39mK_RIGHT:\n\u001b[0;32m     15\u001b[0m             circle_x \u001b[38;5;241m+\u001b[39m\u001b[38;5;241m=\u001b[39m \u001b[38;5;241m10\u001b[39m\n\u001b[1;32m---> 16\u001b[0m \u001b[43mscreen\u001b[49m\u001b[38;5;241;43m.\u001b[39;49m\u001b[43mfill\u001b[49m\u001b[43m(\u001b[49m\u001b[43mblack\u001b[49m\u001b[43m)\u001b[49m\n\u001b[0;32m     18\u001b[0m pygame\u001b[38;5;241m.\u001b[39mdraw\u001b[38;5;241m.\u001b[39mcircle(screen, white, (circle_x, circle_y), circle_radius)\n\u001b[0;32m     19\u001b[0m pygame\u001b[38;5;241m.\u001b[39mdisplay\u001b[38;5;241m.\u001b[39mupdate()\n",
      "\u001b[1;31merror\u001b[0m: display Surface quit"
     ]
    }
   ],
   "source": [
    "running = True\n",
    "while running:\n",
    "    for event in pygame.event.get():\n",
    "        if event.type == pygame.QUIT:\n",
    "            running = False\n",
    "            pygame.quit()\n",
    "        elif event.type == pygame.KEYDOWN:\n",
    "            if event.key == pygame.K_UP:\n",
    "                circle_y -= 10\n",
    "            if event.key == pygame.K_DOWN:\n",
    "                circle_y += 10\n",
    "            if event.key == pygame.K_LEFT:\n",
    "                circle_x -= 10\n",
    "            if event.key == pygame.K_RIGHT:\n",
    "                circle_x += 10\n",
    "    screen.fill(black)\n",
    "    \n",
    "    pygame.draw.circle(screen, white, (circle_x, circle_y), circle_radius)\n",
    "    pygame.display.update()\n",
    "    clock.tick(60)\n",
    "\n",
    "\n",
    "      "
   ]
  },
  {
   "cell_type": "code",
   "execution_count": 14,
   "id": "211bf4e1",
   "metadata": {},
   "outputs": [],
   "source": [
    "pygame.quit()"
   ]
  },
  {
   "cell_type": "code",
   "execution_count": null,
   "id": "daa4a44f",
   "metadata": {},
   "outputs": [],
   "source": []
  }
 ],
 "metadata": {
  "kernelspec": {
   "display_name": "Python 3",
   "language": "python",
   "name": "python3"
  },
  "language_info": {
   "codemirror_mode": {
    "name": "ipython",
    "version": 3
   },
   "file_extension": ".py",
   "mimetype": "text/x-python",
   "name": "python",
   "nbconvert_exporter": "python",
   "pygments_lexer": "ipython3",
   "version": "3.8.5"
  }
 },
 "nbformat": 4,
 "nbformat_minor": 5
}
