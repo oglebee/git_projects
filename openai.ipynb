{
 "cells": [
  {
   "cell_type": "code",
   "execution_count": 1,
   "id": "ffc02142",
   "metadata": {},
   "outputs": [],
   "source": [
    "import openai\n",
    "import os"
   ]
  },
  {
   "cell_type": "code",
   "execution_count": 2,
   "id": "a38143c4",
   "metadata": {},
   "outputs": [],
   "source": [
    "with open(r'..\\data\\draft.txt') as file:\n",
    "    draft = file.read()\n",
    "    file.close()\n",
    "\n",
    "with open(r'..\\data\\job_prompt.txt') as file:\n",
    "    job = file.read()\n",
    "    file.close()\n",
    "\n",
    "openai.api_key = os.environ.get(\"OPENAI_API_KEY\")"
   ]
  },
  {
   "cell_type": "code",
   "execution_count": 5,
   "id": "4733601c",
   "metadata": {
    "scrolled": true
   },
   "outputs": [
    {
     "data": {
      "text/plain": [
       "<OpenAIObject chat.completion id=chatcmpl-6wgDc1lviWg8XNvDePYw07HmV4tCL at 0x29920b3eb80> JSON: {\n",
       "  \"choices\": [\n",
       "    {\n",
       "      \"finish_reason\": \"stop\",\n",
       "      \"index\": 0,\n",
       "      \"message\": {\n",
       "        \"content\": \"Sure, here are the steps for loading a mission on a L3 Harris Falcon III system with a topology setting:\\n\\n1. Begin by setting up the topology for the mission. This includes setting up the network topology map, configuring the link settings, and connecting all necessary devices to the system.\\n\\n2. Once the topology is properly set up, configure the communications settings for the mission. This includes setting up the radio frequencies, encryption keys, and other communications parameters.\\n\\n3. Next, load any necessary software and applications onto the system. This may include mission planning software, data analysis tools, or other specialized applications required for the mission.\\n\\n4. Once the necessary software is installed, configure the data transfer settings for the mission. This includes setting up the data transfer protocols, data storage locations, and data transmission rates.\\n\\n5. Test the system to ensure that all settings are properly configured and functioning correctly. This may include conducting communication checks, data transfer tests, and other system tests to ensure that everything is working as expected.\\n\\n6. Finally, load the mission parameters and start the mission. This includes setting up the mission objectives, identifying specific targets or areas of interest, and assigning assigned tasks to team members.\\n\\nOnce all of these steps are completed, the L3 Harris Falcon III system should be prepared and fully operational for the mission at hand.\",\n",
       "        \"role\": \"assistant\"\n",
       "      }\n",
       "    }\n",
       "  ],\n",
       "  \"created\": 1679443332,\n",
       "  \"id\": \"chatcmpl-6wgDc1lviWg8XNvDePYw07HmV4tCL\",\n",
       "  \"model\": \"gpt-3.5-turbo-0301\",\n",
       "  \"object\": \"chat.completion\",\n",
       "  \"usage\": {\n",
       "    \"completion_tokens\": 268,\n",
       "    \"prompt_tokens\": 45,\n",
       "    \"total_tokens\": 313\n",
       "  }\n",
       "}"
      ]
     },
     "execution_count": 5,
     "metadata": {},
     "output_type": "execute_result"
    }
   ],
   "source": [
    "\n",
    "openai.ChatCompletion.create(\n",
    "  model=\"gpt-3.5-turbo\",\n",
    "  messages=[\n",
    "      {\"role\": \"system\", \"content\": \"You Scooter from te borderlands series but with technical of L3 harris falcon III system.\"},\n",
    "      {\"role\": \"user\", \"content\": \"Please explain the steps for loading a mission starting with topology setting\"}\n",
    "    ]\n",
    ")"
   ]
  },
  {
   "cell_type": "code",
   "execution_count": null,
   "id": "996f4ab9",
   "metadata": {},
   "outputs": [],
   "source": []
  },
  {
   "cell_type": "code",
   "execution_count": 6,
   "id": "e44cc538",
   "metadata": {},
   "outputs": [
    {
     "data": {
      "text/plain": [
       "'openai.ChatCompletion.create(\\n  model=\"gpt-3.5-turbo\",\\n  messages=[\\n      {\"role\": \"system\", \"content\": \"you are a hiring assistant here to reword application emails to be better tailored to job descriptions.\"},\\n      {\"role\": \"user\", \"content\": draft},\\n      {\"role\": \"user\", \"content\": job}\\n    ]\\n)'"
      ]
     },
     "execution_count": 6,
     "metadata": {},
     "output_type": "execute_result"
    }
   ],
   "source": [
    "latest = _\n",
    "text = latest\n",
    "\n",
    "\n",
    "\"\"\"openai.ChatCompletion.create(\n",
    "  model=\"gpt-3.5-turbo\",\n",
    "  messages=[\n",
    "      {\"role\": \"system\", \"content\": \"you are a hiring assistant here to reword application emails to be better tailored to job descriptions.\"},\n",
    "      {\"role\": \"user\", \"content\": draft},\n",
    "      {\"role\": \"user\", \"content\": job}\n",
    "    ]\n",
    ")\"\"\""
   ]
  },
  {
   "cell_type": "code",
   "execution_count": 27,
   "id": "affb96a8",
   "metadata": {},
   "outputs": [
    {
     "name": "stdout",
     "output_type": "stream",
     "text": [
      "git practice code change test\n"
     ]
    }
   ],
   "source": [
    "print(\"git practice code change test\")"
   ]
  },
  {
   "cell_type": "code",
   "execution_count": 7,
   "id": "e87c9d60",
   "metadata": {},
   "outputs": [
    {
     "name": "stdout",
     "output_type": "stream",
     "text": [
      "{\n",
      "  \"choices\": [\n",
      "    {\n",
      "      \"finish_reason\": \"stop\",\n",
      "      \"index\": 0,\n",
      "      \"message\": {\n",
      "        \"content\": \"Sure, here are the steps for loading a mission on a L3 Harris Falcon III system with a topology setting:\\n\\n1. Begin by setting up the topology for the mission. This includes setting up the network topology map, configuring the link settings, and connecting all necessary devices to the system.\\n\\n2. Once the topology is properly set up, configure the communications settings for the mission. This includes setting up the radio frequencies, encryption keys, and other communications parameters.\\n\\n3. Next, load any necessary software and applications onto the system. This may include mission planning software, data analysis tools, or other specialized applications required for the mission.\\n\\n4. Once the necessary software is installed, configure the data transfer settings for the mission. This includes setting up the data transfer protocols, data storage locations, and data transmission rates.\\n\\n5. Test the system to ensure that all settings are properly configured and functioning correctly. This may include conducting communication checks, data transfer tests, and other system tests to ensure that everything is working as expected.\\n\\n6. Finally, load the mission parameters and start the mission. This includes setting up the mission objectives, identifying specific targets or areas of interest, and assigning assigned tasks to team members.\\n\\nOnce all of these steps are completed, the L3 Harris Falcon III system should be prepared and fully operational for the mission at hand.\",\n",
      "        \"role\": \"assistant\"\n",
      "      }\n",
      "    }\n",
      "  ],\n",
      "  \"created\": 1679443332,\n",
      "  \"id\": \"chatcmpl-6wgDc1lviWg8XNvDePYw07HmV4tCL\",\n",
      "  \"model\": \"gpt-3.5-turbo-0301\",\n",
      "  \"object\": \"chat.completion\",\n",
      "  \"usage\": {\n",
      "    \"completion_tokens\": 268,\n",
      "    \"prompt_tokens\": 45,\n",
      "    \"total_tokens\": 313\n",
      "  }\n",
      "}\n"
     ]
    }
   ],
   "source": [
    "print(text)"
   ]
  },
  {
   "cell_type": "code",
   "execution_count": null,
   "id": "720ca3a8",
   "metadata": {},
   "outputs": [],
   "source": []
  },
  {
   "cell_type": "code",
   "execution_count": null,
   "id": "cbd6d5f4",
   "metadata": {},
   "outputs": [],
   "source": [
    "response = openai.ChatCompletion.create(\n",
    "  model=\"gpt-3.5-turbo\",\n",
    "  messages=[\n",
    "      {\"role\": \"system\", \"content\": \"\"},\n",
    "      {\"role\": \"user\", \"content\": \"Please explain the steps for loading a mission starting with topology setting\"}\n",
    "    ]\n",
    ")"
   ]
  }
 ],
 "metadata": {
  "kernelspec": {
   "display_name": "Python 3",
   "language": "python",
   "name": "python3"
  },
  "language_info": {
   "codemirror_mode": {
    "name": "ipython",
    "version": 3
   },
   "file_extension": ".py",
   "mimetype": "text/x-python",
   "name": "python",
   "nbconvert_exporter": "python",
   "pygments_lexer": "ipython3",
   "version": "3.8.5"
  }
 },
 "nbformat": 4,
 "nbformat_minor": 5
}
