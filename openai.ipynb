{
 "cells": [
  {
   "cell_type": "code",
   "execution_count": 24,
   "id": "ffc02142",
   "metadata": {},
   "outputs": [],
   "source": [
    "import openai\n",
    "import os"
   ]
  },
  {
   "cell_type": "code",
   "execution_count": 25,
   "id": "a38143c4",
   "metadata": {},
   "outputs": [],
   "source": [
    "with open(r'..\\data\\draft.txt') as file:\n",
    "    draft = file.read()\n",
    "    file.close()\n",
    "\n",
    "with open(r'..\\data\\job_prompt.txt') as file:\n",
    "    job = file.read()\n",
    "    file.close()\n",
    "\n",
    "with open(r'..\\data\\openai_api_key.txt') as file:\n",
    "    OPEN_AI_API_KEY = file.read()\n",
    "    file.close()\n",
    "openai.api_key = OPEN_AI_API_KEY"
   ]
  },
  {
   "cell_type": "code",
   "execution_count": null,
   "id": "4733601c",
   "metadata": {},
   "outputs": [],
   "source": []
  },
  {
   "cell_type": "code",
   "execution_count": 26,
   "id": "e44cc538",
   "metadata": {},
   "outputs": [
    {
     "data": {
      "text/plain": [
       "<OpenAIObject chat.completion id=chatcmpl-6wbVa3xsOFLgqmt6EwslSUXXrF2wQ at 0x276be52ae50> JSON: {\n",
       "  \"choices\": [\n",
       "    {\n",
       "      \"finish_reason\": \"stop\",\n",
       "      \"index\": 0,\n",
       "      \"message\": {\n",
       "        \"content\": \"Dear [Hiring Manager\\u2019s Name],\\n\\nI am writing in response to the Office Assistant position at your Small Design, Architectural and Construction Firm. As an experienced Administrative Assistant, I have developed strong organizational and multitasking skills which I believe make me a qualified candidate for this position.\\n\\nMy expertise includes performing various office secretarial duties, maintaining records, and providing staff with day-to-day administrative support. Additionally, I have strong written communication skills and attention to detail that would enable me to manage client interactions and Architectural billing data entry. I am proficient in MS Office Suite, which would assist me with scheduling appointments, managing correspondence, and running errands. \\n\\nAs an Office Assistant, I understand the importance of having a positive attitude when interacting with office tenants and facilities maintenance crews. With my previous office experience, I have gained experience in answering phones, filing for multiple companies, ordering office materials, and organizing incoming and outgoing mail and deliveries. \\n\\nI am a self-directed individual and can work independently with little supervision. My ability to prioritize and meet deadlines ensures that I will follow through on all job duties assigned to me. I would welcome the opportunity to assist with a variety of day-to-day business tasks.\\n\\nThank you for considering my application. I look forward to speaking with you soon.\\n\\nSincerely,\\n[Your Name]\",\n",
       "        \"role\": \"assistant\"\n",
       "      }\n",
       "    }\n",
       "  ],\n",
       "  \"created\": 1679425226,\n",
       "  \"id\": \"chatcmpl-6wbVa3xsOFLgqmt6EwslSUXXrF2wQ\",\n",
       "  \"model\": \"gpt-3.5-turbo-0301\",\n",
       "  \"object\": \"chat.completion\",\n",
       "  \"usage\": {\n",
       "    \"completion_tokens\": 264,\n",
       "    \"prompt_tokens\": 446,\n",
       "    \"total_tokens\": 710\n",
       "  }\n",
       "}"
      ]
     },
     "execution_count": 26,
     "metadata": {},
     "output_type": "execute_result"
    }
   ],
   "source": [
    "\n",
    "\n",
    "\n",
    "openai.ChatCompletion.create(\n",
    "  model=\"gpt-3.5-turbo\",\n",
    "  messages=[\n",
    "      {\"role\": \"system\", \"content\": \"you are a hiring assistant here to reword application emails to be better tailored to job descriptions.\"},\n",
    "      {\"role\": \"user\", \"content\": draft},\n",
    "      {\"role\": \"user\", \"content\": job}\n",
    "    ]\n",
    ")"
   ]
  },
  {
   "cell_type": "code",
   "execution_count": 27,
   "id": "affb96a8",
   "metadata": {},
   "outputs": [
    {
     "name": "stdout",
     "output_type": "stream",
     "text": [
      "git practice code change test\n"
     ]
    }
   ],
   "source": [
    "print(\"git practice code change test\")"
   ]
  },
  {
   "cell_type": "code",
   "execution_count": null,
   "id": "e87c9d60",
   "metadata": {},
   "outputs": [],
   "source": []
  },
  {
   "cell_type": "code",
   "execution_count": null,
   "id": "cbd6d5f4",
   "metadata": {},
   "outputs": [],
   "source": []
  }
 ],
 "metadata": {
  "kernelspec": {
   "display_name": "Python 3",
   "language": "python",
   "name": "python3"
  },
  "language_info": {
   "codemirror_mode": {
    "name": "ipython",
    "version": 3
   },
   "file_extension": ".py",
   "mimetype": "text/x-python",
   "name": "python",
   "nbconvert_exporter": "python",
   "pygments_lexer": "ipython3",
   "version": "3.8.5"
  }
 },
 "nbformat": 4,
 "nbformat_minor": 5
}
